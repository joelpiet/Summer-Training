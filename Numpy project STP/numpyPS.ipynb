{
 "cells": [
  {
   "cell_type": "markdown",
   "metadata": {},
   "source": [
    "Data of US Energy Information Administration"
   ]
  },
  {
   "cell_type": "code",
   "execution_count": 2,
   "metadata": {},
   "outputs": [],
   "source": [
    "import csv\n",
    "import numpy as np\n",
    "\n",
    "data = []\n",
    "\n",
    "with open(r\"D:\\Summer-Training\\Numpy project STP\\MER_T07_02A-2020-02-03.csv\",'r') as csvfile:\n",
    "    file_reader = csv.reader(csvfile, delimiter=',')\n",
    "    for row in file_reader:\n",
    "        data.append(row)\n",
    "\n",
    "data = np.array(data) # convert the list of Lists to a numpy array"
   ]
  },
  {
   "cell_type": "code",
   "execution_count": 3,
   "metadata": {},
   "outputs": [
    {
     "name": "stdout",
     "output_type": "stream",
     "text": [
      "(8217, 6)\n",
      "2\n",
      "<U80\n"
     ]
    }
   ],
   "source": [
    "# 1. Explore the important attributes like dimension,shape, data type etc, of the array formed above.\n",
    "\n",
    "print(data.shape)\n",
    "print(data.ndim)\n",
    "print(data.dtype)"
   ]
  },
  {
   "cell_type": "code",
   "execution_count": 15,
   "metadata": {},
   "outputs": [
    {
     "name": "stdout",
     "output_type": "stream",
     "text": [
      "['Column_Order' '1' '1' '1' '1' '1' '1' '1' '1' '1' '1']\n"
     ]
    }
   ],
   "source": [
    "# 2. Print the data contained in the first 10 rows of the 4th column.\n",
    "\n",
    "print(data[:11,3])"
   ]
  },
  {
   "cell_type": "code",
   "execution_count": 16,
   "metadata": {},
   "outputs": [
    {
     "name": "stdout",
     "output_type": "stream",
     "text": [
      "['MSN' 'YYYYMM' 'Value' 'Column_Order' 'Description' 'Unit']\n"
     ]
    }
   ],
   "source": [
    "# 3. Which row serves as the headers/titles for all the columns.\n",
    "print(data[0])"
   ]
  },
  {
   "cell_type": "code",
   "execution_count": 17,
   "metadata": {},
   "outputs": [
    {
     "name": "stdout",
     "output_type": "stream",
     "text": [
      "[['YYYYMM' 'Value']\n",
      " ['194913' '135451.32']\n",
      " ['195013' '154519.994']\n",
      " ['195113' '185203.657']\n",
      " ['195213' '195436.666']\n",
      " ['195313' '218846.325']\n",
      " ['195413' '239145.966']\n",
      " ['195513' '301362.698']\n",
      " ['195613' '338503.484']\n",
      " ['195713' '346386.207']\n",
      " ['195813' '344365.781']\n",
      " ['195913' '378424.21']\n",
      " ['196013' '403067.357']\n",
      " ['196113' '421870.669']\n",
      " ['196213' '450249.238']\n",
      " ['196313' '493926.719']\n",
      " ['196413' '526230.019']\n",
      " ['196513' '570925.951']\n",
      " ['196613' '613474.8']\n",
      " ['196713' '630483.363']\n",
      " ['196813' '684904.58']]\n"
     ]
    }
   ],
   "source": [
    "# 4. Print the data contained in column 2 and 3 from row 1 till row 20\n",
    "\n",
    "print(data[:21,1:3])"
   ]
  },
  {
   "cell_type": "code",
   "execution_count": 21,
   "metadata": {},
   "outputs": [
    {
     "name": "stdout",
     "output_type": "stream",
     "text": [
      "[['CLETPUS' '195213' '195436.666' '1'\n",
      "  'Electricity Net Generation From Coal, All Sectors'\n",
      "  'Million Kilowatthours']\n",
      " ['CLETPUS' '195313' '218846.325' '1'\n",
      "  'Electricity Net Generation From Coal, All Sectors'\n",
      "  'Million Kilowatthours']\n",
      " ['CLETPUS' '195413' '239145.966' '1'\n",
      "  'Electricity Net Generation From Coal, All Sectors'\n",
      "  'Million Kilowatthours']\n",
      " ...\n",
      " ['ELETPUS' '201905' '328366.669' '13'\n",
      "  'Electricity Net Generation Total (including from sources not shown), All Sectors'\n",
      "  'Million Kilowatthours']\n",
      " ['ELETPUS' '201906' '351342.905' '13'\n",
      "  'Electricity Net Generation Total (including from sources not shown), All Sectors'\n",
      "  'Million Kilowatthours']\n",
      " ['ELETPUS' '201907' '411583.828' '13'\n",
      "  'Electricity Net Generation Total (including from sources not shown), All Sectors'\n",
      "  'Million Kilowatthours']]\n"
     ]
    }
   ],
   "source": [
    "# 5. Print the data present in only the first three and the last three rows of all the columns in a single output.\n",
    "print(data[4:-3])"
   ]
  },
  {
   "cell_type": "code",
   "execution_count": 23,
   "metadata": {},
   "outputs": [
    {
     "ename": "TypeError",
     "evalue": "an integer is required (got type str)",
     "output_type": "error",
     "traceback": [
      "\u001b[1;31m---------------------------------------------------------------------------\u001b[0m",
      "\u001b[1;31mTypeError\u001b[0m                                 Traceback (most recent call last)",
      "Cell \u001b[1;32mIn[23], line 2\u001b[0m\n\u001b[0;32m      1\u001b[0m \u001b[39m# 6. Sort the data on the basis of net amount of electricity generated irrespective of the source.\u001b[39;00m\n\u001b[1;32m----> 2\u001b[0m data2\u001b[39m=\u001b[39mdata\u001b[39m.\u001b[39;49msort(\u001b[39m'\u001b[39;49m\u001b[39mValue\u001b[39;49m\u001b[39m'\u001b[39;49m)\n\u001b[0;32m      3\u001b[0m \u001b[39mprint\u001b[39m(data2)\n",
      "\u001b[1;31mTypeError\u001b[0m: an integer is required (got type str)"
     ]
    }
   ],
   "source": [
    "# 6. Sort the data on the basis of net amount of electricity generated irrespective of the source.\n",
    "data2=data\n",
    "print(data2)"
   ]
  },
  {
   "cell_type": "code",
   "execution_count": null,
   "metadata": {},
   "outputs": [],
   "source": []
  }
 ],
 "metadata": {
  "kernelspec": {
   "display_name": "Python 3",
   "language": "python",
   "name": "python3"
  },
  "language_info": {
   "codemirror_mode": {
    "name": "ipython",
    "version": 3
   },
   "file_extension": ".py",
   "mimetype": "text/x-python",
   "name": "python",
   "nbconvert_exporter": "python",
   "pygments_lexer": "ipython3",
   "version": "3.9.13"
  },
  "orig_nbformat": 4
 },
 "nbformat": 4,
 "nbformat_minor": 2
}
